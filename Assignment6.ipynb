{
  "nbformat": 4,
  "nbformat_minor": 0,
  "metadata": {
    "colab": {
      "provenance": []
    },
    "kernelspec": {
      "name": "python3",
      "display_name": "Python 3"
    },
    "language_info": {
      "name": "python"
    }
  },
  "cells": [
    {
      "cell_type": "markdown",
      "source": [
        "# Train Multiple Models"
      ],
      "metadata": {
        "id": "Y0ZjNsvIR8FG"
      }
    },
    {
      "cell_type": "code",
      "execution_count": 12,
      "metadata": {
        "id": "qK7ZCXeWPrHc"
      },
      "outputs": [],
      "source": [
        "from sklearn.model_selection import train_test_split\n",
        "from sklearn.preprocessing import StandardScaler\n",
        "from sklearn.datasets import load_breast_cancer\n",
        "from sklearn.linear_model import LogisticRegression\n",
        "from sklearn.tree import DecisionTreeClassifier\n",
        "from sklearn.ensemble import RandomForestClassifier\n",
        "from sklearn.svm import SVC\n",
        "from sklearn.neighbors import KNeighborsClassifier\n",
        "import matplotlib.pyplot as plt"
      ]
    },
    {
      "cell_type": "code",
      "source": [
        "data = load_breast_cancer()\n",
        "X = data.data\n",
        "y = data.target"
      ],
      "metadata": {
        "id": "bRI4adgSQMX7"
      },
      "execution_count": 4,
      "outputs": []
    },
    {
      "cell_type": "code",
      "source": [
        "X_train, X_test, y_train, y_test = train_test_split(X, y, test_size=0.2, random_state=42)\n",
        "\n",
        "scaler = StandardScaler()\n",
        "X_train = scaler.fit_transform(X_train)\n",
        "X_test = scaler.transform(X_test)\n",
        "\n",
        "models = {\n",
        "    'Logistic Regression': LogisticRegression(),\n",
        "    'Decision Tree': DecisionTreeClassifier(),\n",
        "    'Random Forest': RandomForestClassifier(),\n",
        "    'SVM': SVC(),\n",
        "    'KNN': KNeighborsClassifier()\n",
        "}\n"
      ],
      "metadata": {
        "id": "0PKcYxmEQkKp"
      },
      "execution_count": 5,
      "outputs": []
    },
    {
      "cell_type": "markdown",
      "source": [
        "# Evaluate Performance Using Metrics"
      ],
      "metadata": {
        "id": "PwpUnI7nSY2o"
      }
    },
    {
      "cell_type": "code",
      "source": [
        "from sklearn.metrics import accuracy_score, precision_score, recall_score, f1_score\n",
        "\n",
        "for name, model in models.items():\n",
        "    model.fit(X_train, y_train)\n",
        "    y_pred = model.predict(X_test)\n",
        "\n",
        "    print(f\"\\nModel: {name}\")\n",
        "    print(\"Accuracy:\", accuracy_score(y_test, y_pred))\n",
        "    print(\"Precision:\", precision_score(y_test, y_pred))\n",
        "    print(\"Recall:\", recall_score(y_test, y_pred))\n",
        "    print(\"F1 Score:\", f1_score(y_test, y_pred))\n"
      ],
      "metadata": {
        "colab": {
          "base_uri": "https://localhost:8080/"
        },
        "id": "vxPGIEMCQorA",
        "outputId": "0d7691c7-ca23-412e-ad3e-b94112b8461b"
      },
      "execution_count": 6,
      "outputs": [
        {
          "output_type": "stream",
          "name": "stdout",
          "text": [
            "\n",
            "Model: Logistic Regression\n",
            "Accuracy: 0.9736842105263158\n",
            "Precision: 0.9722222222222222\n",
            "Recall: 0.9859154929577465\n",
            "F1 Score: 0.9790209790209791\n",
            "\n",
            "Model: Decision Tree\n",
            "Accuracy: 0.9473684210526315\n",
            "Precision: 0.9577464788732394\n",
            "Recall: 0.9577464788732394\n",
            "F1 Score: 0.9577464788732394\n",
            "\n",
            "Model: Random Forest\n",
            "Accuracy: 0.9649122807017544\n",
            "Precision: 0.958904109589041\n",
            "Recall: 0.9859154929577465\n",
            "F1 Score: 0.9722222222222222\n",
            "\n",
            "Model: SVM\n",
            "Accuracy: 0.9824561403508771\n",
            "Precision: 0.9726027397260274\n",
            "Recall: 1.0\n",
            "F1 Score: 0.9861111111111112\n",
            "\n",
            "Model: KNN\n",
            "Accuracy: 0.9473684210526315\n",
            "Precision: 0.9577464788732394\n",
            "Recall: 0.9577464788732394\n",
            "F1 Score: 0.9577464788732394\n"
          ]
        }
      ]
    },
    {
      "cell_type": "markdown",
      "source": [
        "# Hyperparameter Tuning"
      ],
      "metadata": {
        "id": "l1KcBykCSf--"
      }
    },
    {
      "cell_type": "markdown",
      "source": [
        "(a) GridSearchCV - Tries all combinations of parameters."
      ],
      "metadata": {
        "id": "nW1oQUTJSjs_"
      }
    },
    {
      "cell_type": "code",
      "source": [
        "from sklearn.model_selection import GridSearchCV\n",
        "\n",
        "param_grid = {\n",
        "    'n_estimators': [50, 100, 200],\n",
        "    'max_depth': [None, 5, 10],\n",
        "    'min_samples_split': [2, 5, 10]\n",
        "}\n",
        "\n",
        "grid_search = GridSearchCV(RandomForestClassifier(), param_grid, cv=5, scoring='f1')\n",
        "grid_search.fit(X_train, y_train)\n",
        "\n",
        "print(\"Best Parameters (GridSearchCV):\", grid_search.best_params_)\n"
      ],
      "metadata": {
        "colab": {
          "base_uri": "https://localhost:8080/"
        },
        "id": "BGp5j5LdQ-nf",
        "outputId": "f7884610-97e3-43c2-bdb8-239a099810c8"
      },
      "execution_count": 7,
      "outputs": [
        {
          "output_type": "stream",
          "name": "stdout",
          "text": [
            "Best Parameters (GridSearchCV): {'max_depth': 10, 'min_samples_split': 2, 'n_estimators': 100}\n"
          ]
        }
      ]
    },
    {
      "cell_type": "markdown",
      "source": [
        "(b) RandomizedSearchCV - Randomly selects combinations for faster results."
      ],
      "metadata": {
        "id": "1iqUbd-RSrc4"
      }
    },
    {
      "cell_type": "code",
      "source": [
        "from sklearn.model_selection import RandomizedSearchCV\n",
        "from scipy.stats import randint\n",
        "\n",
        "param_dist = {\n",
        "    'n_estimators': randint(50, 200),\n",
        "    'max_depth': [None, 5, 10],\n",
        "    'min_samples_split': randint(2, 10)\n",
        "}\n",
        "\n",
        "random_search = RandomizedSearchCV(RandomForestClassifier(), param_distributions=param_dist, n_iter=10, cv=5, scoring='f1', random_state=42)\n",
        "random_search.fit(X_train, y_train)\n",
        "\n",
        "print(\"Best Parameters (RandomizedSearchCV):\", random_search.best_params_)\n"
      ],
      "metadata": {
        "colab": {
          "base_uri": "https://localhost:8080/"
        },
        "id": "qVm4S7_ARMDG",
        "outputId": "13de0a7b-1922-46ef-ef50-97963df567fe"
      },
      "execution_count": 8,
      "outputs": [
        {
          "output_type": "stream",
          "name": "stdout",
          "text": [
            "Best Parameters (RandomizedSearchCV): {'max_depth': 10, 'min_samples_split': 7, 'n_estimators': 102}\n"
          ]
        }
      ]
    },
    {
      "cell_type": "markdown",
      "source": [
        "# Model Evaluation"
      ],
      "metadata": {
        "id": "bh61LLkQTnqF"
      }
    },
    {
      "cell_type": "code",
      "source": [
        "from sklearn.metrics import classification_report\n",
        "\n",
        "best_model = None\n",
        "best_f1 = 0\n",
        "model_results = {}\n",
        "\n",
        "for name, model in models.items():\n",
        "    model.fit(X_train, y_train)\n",
        "    y_pred = model.predict(X_test)\n",
        "\n",
        "    f1 = f1_score(y_test, y_pred)\n",
        "    model_results[name] = {\n",
        "        \"Accuracy\": accuracy_score(y_test, y_pred),\n",
        "        \"Precision\": precision_score(y_test, y_pred),\n",
        "        \"Recall\": recall_score(y_test, y_pred),\n",
        "        \"F1-Score\": f1\n",
        "    }\n",
        "\n",
        "    if f1 > best_f1:\n",
        "        best_f1 = f1\n",
        "        best_model = model\n",
        "\n",
        "# Print all results\n",
        "import pandas as pd\n",
        "results_df = pd.DataFrame(model_results).T\n",
        "print(results_df)\n",
        "\n",
        "print(\"\\n Best model based on F1-score:\", best_model)\n"
      ],
      "metadata": {
        "colab": {
          "base_uri": "https://localhost:8080/"
        },
        "id": "g9Ms9CpYRmeR",
        "outputId": "0caafe97-faac-45a0-fb1d-c202bc8ff391"
      },
      "execution_count": 10,
      "outputs": [
        {
          "output_type": "stream",
          "name": "stdout",
          "text": [
            "                     Accuracy  Precision    Recall  F1-Score\n",
            "Logistic Regression  0.973684   0.972222  0.985915  0.979021\n",
            "Decision Tree        0.938596   0.944444  0.957746  0.951049\n",
            "Random Forest        0.964912   0.958904  0.985915  0.972222\n",
            "SVM                  0.982456   0.972603  1.000000  0.986111\n",
            "KNN                  0.947368   0.957746  0.957746  0.957746\n",
            "\n",
            " Best model based on F1-score: SVC()\n"
          ]
        }
      ]
    },
    {
      "cell_type": "markdown",
      "source": [
        "# Comparison Plot"
      ],
      "metadata": {
        "id": "5wPyNuIHTvsO"
      }
    },
    {
      "cell_type": "code",
      "source": [
        "results_df.plot(kind='bar', figsize=(10, 6))\n",
        "plt.title(\"Model Comparison\")\n",
        "plt.ylabel(\"Score\")\n",
        "plt.xticks(rotation=45)\n",
        "plt.grid(True)\n",
        "plt.legend(loc='lower right')\n",
        "plt.tight_layout()\n",
        "plt.show()\n"
      ],
      "metadata": {
        "colab": {
          "base_uri": "https://localhost:8080/",
          "height": 607
        },
        "id": "8yOxzzUBTNNG",
        "outputId": "0fb1b488-b88a-484f-dd65-61ad2c3ee8f6"
      },
      "execution_count": 13,
      "outputs": [
        {
          "output_type": "display_data",
          "data": {
            "text/plain": [
              "<Figure size 1000x600 with 1 Axes>"
            ],
            "image/png": "[encoded data removed]"
          },
          "metadata": {}
        }
      ]
    },
    {
      "cell_type": "markdown",
      "source": [
        "#  Conclusion"
      ],
      "metadata": {
        "id": "sUhz6H0LU8_O"
      }
    },
    {
      "cell_type": "markdown",
      "source": [
        "Based on evaluation metrics, the Support Vector Machine (SVM) achieved the best F1-score (0.986111), with perfect recall (1.000000), making it the most suitable model for our classification task.\n",
        "\n",
        "After tuning with GridSearchCV, SVM retained its performance and confirmed its generalizability. Thus, SVM is selected as the final model.\n"
      ],
      "metadata": {
        "id": "PhH-1MQ1UkSR"
      }
    }
  ]
}